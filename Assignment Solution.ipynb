{
 "cells": [
  {
   "cell_type": "markdown",
   "metadata": {},
   "source": [
    "# Assignment 01\n",
    "Robert Koch - 25124390"
   ]
  },
  {
   "cell_type": "markdown",
   "metadata": {},
   "source": [
    "## Question 01"
   ]
  },
  {
   "cell_type": "code",
   "execution_count": 1,
   "metadata": {},
   "outputs": [],
   "source": [
    "from math import *\n",
    "import cmath\n",
    "from IPython.display import Markdown\n",
    "\n",
    "freq = 25976435 # Hz\n",
    "A = 25.0\n",
    "\n",
    "mu_0 = 4*pi*10**(-7) # Vaccum permeability\n",
    "eps_0 = 8.854*10**(-12) # Vacuum permittivity\n",
    "\n",
    "omega = 2*pi*freq\n",
    "\n",
    "c = 1/sqrt(mu_0*eps_0) # Speed of Light in a Vacuum\n",
    "\n",
    "eps_ground = 20\n",
    "mu_ground = 1\n",
    "\n",
    "eps_air = 1.000589\n",
    "mu_air = 1"
   ]
  },
  {
   "cell_type": "markdown",
   "metadata": {},
   "source": [
    "### Brewster Angle"
   ]
  },
  {
   "cell_type": "code",
   "execution_count": 2,
   "metadata": {},
   "outputs": [
    {
     "name": "stdout",
     "output_type": "stream",
     "text": [
      "The brewster angle is 77.392025 degrees\n"
     ]
    }
   ],
   "source": [
    "n1 = sqrt(eps_air*mu_air)\n",
    "n2  = sqrt(eps_ground*mu_ground)\n",
    "theta_b = atan(n2/n1)\n",
    "\n",
    "print(\"The brewster angle is {:f} degrees\".format(degrees(theta_b)))"
   ]
  },
  {
   "cell_type": "markdown",
   "metadata": {},
   "source": [
    "### Phase Constant"
   ]
  },
  {
   "cell_type": "code",
   "execution_count": 3,
   "metadata": {},
   "outputs": [
    {
     "name": "stdout",
     "output_type": "stream",
     "text": [
      "Phase constant for air: 0.544420 rad/s\n",
      "Phase constant for ground: 2.434720 rad/s\n"
     ]
    }
   ],
   "source": [
    "B_air = 2*pi*freq/c\n",
    "\n",
    "v_ground = 1/sqrt(eps_ground*eps_0*mu_ground*mu_0)\n",
    "B_ground = 2*pi*freq/v_ground\n",
    "\n",
    "print(\"Phase constant for air: {:f} rad/s\".format(B_air))\n",
    "print(\"Phase constant for ground: {:f} rad/s\".format(B_ground))"
   ]
  },
  {
   "cell_type": "markdown",
   "metadata": {},
   "source": [
    "### Intrinsic Wave Impedances"
   ]
  },
  {
   "cell_type": "code",
   "execution_count": 4,
   "metadata": {},
   "outputs": [
    {
     "name": "stdout",
     "output_type": "stream",
     "text": [
      "Intrinsic wave impedance for air: 376.623410 ohms\n",
      "Intrinsic wave impedances for ground: 84.240352 ohms\n"
     ]
    }
   ],
   "source": [
    "eta1 = sqrt((mu_0*mu_air)/(eps_0*eps_air))\n",
    "eta2 = sqrt((mu_0*mu_ground)/(eps_0*eps_ground))\n",
    "\n",
    "print(\"Intrinsic wave impedance for air: {:f} ohms\".format(eta1))\n",
    "print(\"Intrinsic wave impedances for ground: {:f} ohms\".format(eta2))"
   ]
  },
  {
   "cell_type": "markdown",
   "metadata": {},
   "source": [
    "### Angle of Transmission"
   ]
  },
  {
   "cell_type": "code",
   "execution_count": 5,
   "metadata": {},
   "outputs": [
    {
     "name": "stdout",
     "output_type": "stream",
     "text": [
      "The transmission angle is 12.607975 degrees\n"
     ]
    }
   ],
   "source": [
    "sin_t = n1/n2*sin(theta_b)\n",
    "theta_t = asin(sin_t)\n",
    "\n",
    "print(\"The transmission angle is {:f} degrees\".format(degrees(theta_t)))"
   ]
  },
  {
   "cell_type": "markdown",
   "metadata": {},
   "source": [
    "### TE Polarised Reflection Coefficient"
   ]
  },
  {
   "cell_type": "code",
   "execution_count": 6,
   "metadata": {},
   "outputs": [
    {
     "name": "stdout",
     "output_type": "stream",
     "text": [
      "The Polarised TE Reflection Coefficient is -0.904708\n"
     ]
    }
   ],
   "source": [
    "Gamma_te = (eta2*cos(theta_b)-eta1*cos(theta_t))/(eta2*cos(theta_b)+eta1*cos(theta_t))\n",
    "tau_te = 1 + Gamma_te;\n",
    "print(\"The Polarised TE Reflection Coefficient is {:f}\".format(Gamma_te))"
   ]
  },
  {
   "cell_type": "markdown",
   "metadata": {},
   "source": [
    "### TE Polarised Electric Fields"
   ]
  },
  {
   "cell_type": "markdown",
   "metadata": {},
   "source": [
    "#### Incident"
   ]
  },
  {
   "cell_type": "markdown",
   "metadata": {},
   "source": [
    "$$\\vec{E^i_s}(x,z) = E^i_0\\cdot\\exp(-jB_1\\sin(\\theta_i){x})\\cdot\\exp(-jB_1\\cos(\\theta_i)z)V/m$$\n",
    "$$\\vec{E^i_s}(x,z,t) = \\Re\\{\\vec{E^i_s}\\exp(jwt)\\}$$"
   ]
  },
  {
   "cell_type": "code",
   "execution_count": 7,
   "metadata": {},
   "outputs": [
    {
     "data": {
      "text/markdown": [
       "\n",
       "$$\\vec{E^i_s}(x,z) = 25.0\\hat{a_y}\\exp(-0.531jx)\\cdot\\exp(-0.119jz)V/m$$\n",
       "$$\\vec{E^i_s}(x,z,t) = 25.0\\hat{a_y}\\cos(163214755t-0.531x-0.119z)V/m$$\n"
      ],
      "text/plain": [
       "<IPython.core.display.Markdown object>"
      ]
     },
     "execution_count": 7,
     "metadata": {},
     "output_type": "execute_result"
    }
   ],
   "source": [
    "E_i_0 = A\n",
    "\n",
    "Markdown(\"\"\"\n",
    "$$\\\\vec{{E^i_s}}(x,z) = {a_y}\\\\hat{{a_y}}\\exp({x:.3}jx)\\cdot\\exp({z:.3}jz)V/m$$\n",
    "$$\\\\vec{{E^i_s}}(x,z,t) = {a_y}\\\\hat{{a_y}}\\cos({omega:.0f}t{x:+.3}x{z:+.3}z)V/m$$\n",
    "\"\"\".format(a_y=E_i_0,\n",
    "           omega=omega,\n",
    "           x=-B_air*sin(theta_b),\n",
    "           z=-B_air*cos(theta_b)\n",
    "          ))"
   ]
  },
  {
   "cell_type": "markdown",
   "metadata": {},
   "source": [
    "#### Reflected"
   ]
  },
  {
   "cell_type": "markdown",
   "metadata": {},
   "source": [
    "$$\\vec{E^i_s}(x,z) = E^i_0\\cdot\\exp(-jB_1\\sin(\\theta_r){x})\\cdot\\exp(jB_1\\cos(\\theta_r)z)V/m$$\n",
    "$$\\vec{E^i_s}(x,z,t) = \\Re\\{\\vec{E^i_s}\\exp(jwt)\\}$$"
   ]
  },
  {
   "cell_type": "code",
   "execution_count": 8,
   "metadata": {},
   "outputs": [
    {
     "data": {
      "text/markdown": [
       "\n",
       "$$\\vec{E^r_s}(x,z) = -22.618\\hat{a_y}\\exp(-0.531jx)\\cdot\\exp(0.119jz)V/m$$\n",
       "$$\\vec{E^r_s}(x,z,t) = -22.618\\hat{a_y}\\cos(163214755t-0.531x+0.119z)V/m$$\n"
      ],
      "text/plain": [
       "<IPython.core.display.Markdown object>"
      ]
     },
     "execution_count": 8,
     "metadata": {},
     "output_type": "execute_result"
    }
   ],
   "source": [
    "E_r_0 = A*Gamma_te\n",
    "\n",
    "Markdown(\"\"\"\n",
    "$$\\\\vec{{E^r_s}}(x,z) = {a_y:.3f}\\\\hat{{a_y}}\\exp({x:.3}jx)\\cdot\\exp({z:.3}jz)V/m$$\n",
    "$$\\\\vec{{E^r_s}}(x,z,t) = {a_y:.3f}\\\\hat{{a_y}}\\cos({omega:.0f}t{x:+.3f}x{z:+.3f}z)V/m$$\n",
    "\"\"\".format(\n",
    "    a_y=E_r_0,\n",
    "    omega=omega, \n",
    "    x=-B_air*sin(theta_b), \n",
    "    z=B_air*cos(theta_b)\n",
    "))"
   ]
  },
  {
   "cell_type": "markdown",
   "metadata": {},
   "source": [
    "#### Transmitted"
   ]
  },
  {
   "cell_type": "markdown",
   "metadata": {},
   "source": [
    "$$\\vec{E^t_s}(x,z) = E^t_0\\cdot\\exp(-jB_2\\sin(\\theta_t){x})\\cdot\\exp(jB_2\\cos(\\theta_t)z)V/m$$\n",
    "$$\\vec{E^i_s}(x,z,t) = \\Re\\{\\vec{E^i_s}\\exp(jwt)\\}$$"
   ]
  },
  {
   "cell_type": "code",
   "execution_count": 9,
   "metadata": {},
   "outputs": [
    {
     "data": {
      "text/markdown": [
       "\n",
       "$$\\vec{E^t_s}(x,z) = 2.382\\hat{a_y}\\cdot\\exp(-0.531jx)\\cdot\\exp(-2.376jz)V/m$$\n",
       "$$\\vec{E^t_s}(x,z,t) = 2.382\\hat{a_y}\\cdot\\cos(163214755t-0.531x-2.376z)V/m$$\n"
      ],
      "text/plain": [
       "<IPython.core.display.Markdown object>"
      ]
     },
     "execution_count": 9,
     "metadata": {},
     "output_type": "execute_result"
    }
   ],
   "source": [
    "E_t_0 = A*tau_te\n",
    "\n",
    "Markdown(\"\"\"\n",
    "$$\\\\vec{{E^t_s}}(x,z) = {a_y:.3f}\\\\hat{{a_y}}\\cdot\\exp({x:.3}jx)\\cdot\\exp({z:.3f}jz)V/m$$\n",
    "$$\\\\vec{{E^t_s}}(x,z,t) = {a_y:.3f}\\\\hat{{a_y}}\\cdot\\cos({omega:.0f}t{x:+.3f}x{z:+.3f}z)V/m$$\n",
    "\"\"\".format(\n",
    "    a_y=E_t_0, \n",
    "    omega=omega, \n",
    "    x=-B_ground*sin(theta_t), \n",
    "    z=-B_ground*cos(theta_t)\n",
    "))"
   ]
  },
  {
   "cell_type": "markdown",
   "metadata": {},
   "source": [
    "### TM Polarised Reflection Coefficient"
   ]
  },
  {
   "cell_type": "code",
   "execution_count": 10,
   "metadata": {},
   "outputs": [
    {
     "name": "stdout",
     "output_type": "stream",
     "text": [
      "The Polarised TM Reflection Coefficient is 0.000000\n"
     ]
    }
   ],
   "source": [
    "Gamma_tm = (eta2*cos(theta_t)-eta1*cos(theta_b))/(eta2*cos(theta_t)+eta1*cos(theta_b)) # 0\n",
    "tau_tm = (1 + Gamma_tm)*cos(theta_b)/cos(theta_t);\n",
    "print(\"The Polarised TM Reflection Coefficient is {:f}\".format(Gamma_tm))"
   ]
  },
  {
   "cell_type": "markdown",
   "metadata": {},
   "source": [
    "### TM Polarized Electric Fields"
   ]
  },
  {
   "cell_type": "markdown",
   "metadata": {},
   "source": [
    "#### Incident"
   ]
  },
  {
   "cell_type": "markdown",
   "metadata": {},
   "source": [
    "$$\\vec{E^i_s}(x,z) = E^i_0\\cdot\\exp(-jB_1\\sin(\\theta_i){x})\\cdot\\exp(-jB_1\\cos(\\theta_i)z)(\\cos(\\theta_i)\\hat{{a_x}}-\\sin(\\theta_i)\\hat{{a_z}})V/m$$\n",
    "$$\\vec{E^i_s}(x,z,t) = \\Re\\{\\vec{E^i_s}\\exp(jwt)\\}$$"
   ]
  },
  {
   "cell_type": "code",
   "execution_count": 11,
   "metadata": {},
   "outputs": [
    {
     "data": {
      "text/markdown": [
       "\n",
       "$$\\vec{E^i_s}(x,z) = \\exp(-0.531jx)\\cdot\\exp(-0.119jz)(5.46\\hat{a_x}-24.4\\hat{a_z})V/m$$\n",
       "$$\\vec{E^i_s}(x,z,t) = \\cos(163214755t-0.531x-0.119z)(5.457\\hat{a_x}-24.397\\hat{a_z}) V/m$$\n"
      ],
      "text/plain": [
       "<IPython.core.display.Markdown object>"
      ]
     },
     "execution_count": 11,
     "metadata": {},
     "output_type": "execute_result"
    }
   ],
   "source": [
    "E_i_0 = A\n",
    "\n",
    "Markdown(\"\"\"\n",
    "$$\\\\vec{{E^i_s}}(x,z) = \\exp({x:.3f}jx)\\cdot\\exp({z:.3}jz)({a_x:.3}\\hat{{a_x}}{a_z:+.3}\\hat{{a_z}})V/m$$\n",
    "$$\\\\vec{{E^i_s}}(x,z,t) = \\cos({omega:.0f}t{x:+.3}x{z:+.3}z)({a_x:0.3f}\\hat{{a_x}}{a_z:+0.3f}\\hat{{a_z}}) V/m$$\n",
    "\"\"\".format(\n",
    "    omega=omega, \n",
    "    x=-B_air*sin(theta_b), \n",
    "    z=-B_air*cos(theta_b), \n",
    "    a_x=cos(theta_b)*E_i_0, \n",
    "    a_z=-sin(theta_b)*E_i_0\n",
    "))"
   ]
  },
  {
   "cell_type": "markdown",
   "metadata": {},
   "source": [
    "#### Reflected"
   ]
  },
  {
   "cell_type": "markdown",
   "metadata": {},
   "source": [
    "$$\\vec{E^i_s}(x,z) = E^i_0\\cdot\\exp(-jB_1\\sin(\\theta_r){x})\\cdot\\exp(-jB_1\\cos(\\theta_r)z)(\\cos(\\theta_r)\\hat{{a_x}}+\\sin(\\theta_r)\\hat{{a_z}})V/m$$\n",
    "$$\\vec{E^i_s}(x,z,t) = \\Re\\{\\vec{E^i_s}\\exp(jwt)\\}$$"
   ]
  },
  {
   "cell_type": "code",
   "execution_count": 12,
   "metadata": {},
   "outputs": [
    {
     "data": {
      "text/markdown": [
       "\n",
       "$$\\vec{E^r_s}(x,z) = \\exp(-0.531jx)\\cdot\\exp(0.119jz)(0.000\\hat{a_x}+0.000\\hat{a_z})V/m=0V/m$$\n",
       "$$\\vec{E^r_s}(x,z,t) = \\cos(163214755t-0.5313x+0.1188z)(0.0\\hat{a_x}+0.0\\hat{a_z}) V/m$$\n"
      ],
      "text/plain": [
       "<IPython.core.display.Markdown object>"
      ]
     },
     "execution_count": 12,
     "metadata": {},
     "output_type": "execute_result"
    }
   ],
   "source": [
    "E_r_0 = A*Gamma_tm\n",
    "\n",
    "Markdown(\"\"\"\n",
    "$$\\\\vec{{E^r_s}}(x,z) = \\exp({x:.3}jx)\\cdot\\exp({z:.3}jz)({a_x:.3f}\\hat{{a_x}}+{a_z:.3f}\\hat{{a_z}})V/m=0V/m$$\n",
    "$$\\\\vec{{E^r_s}}(x,z,t) = \\cos({omega:.0f}t{x:+.4}x{z:+.4}z)({a_x:0.2}\\hat{{a_x}}+{a_z:0.2}\\hat{{a_z}}) V/m$$\n",
    "\"\"\".format(\n",
    "    omega=omega, \n",
    "    x=-B_air*sin(theta_b), \n",
    "    z=B_air*cos(theta_b), \n",
    "    a_x=cos(theta_b)*E_r_0, \n",
    "    a_z=sin(theta_b)*E_r_0\n",
    "))"
   ]
  },
  {
   "cell_type": "markdown",
   "metadata": {},
   "source": [
    "#### Transmitted"
   ]
  },
  {
   "cell_type": "markdown",
   "metadata": {},
   "source": [
    "$$\\vec{E^i_s}(x,z) = E^i_0\\cdot\\exp(-jB_2\\sin(\\theta_r){x})\\cdot\\exp(-jB_2\\cos(\\theta_r)z)(\\cos(\\theta_r)\\hat{{a_x}}-\\cos(\\theta_r)\\hat{{a_z}})V/m$$\n",
    "$$\\vec{E^i_s}(x,z,t) = \\Re\\{\\vec{E^i_s}\\exp(jwt)\\}$$"
   ]
  },
  {
   "cell_type": "code",
   "execution_count": 13,
   "metadata": {},
   "outputs": [
    {
     "data": {
      "text/markdown": [
       "\n",
       "$$\\vec{E^t_s}(x,z) = \\exp(-0.5314jx)\\cdot\\exp(-2.376jz)(5.5\\hat{a_x}-1.2\\hat{a_z}) V/m$$\n",
       "$$\\vec{E^t_s}(x,z,t) = \\cos(163214755t-0.531x-2.376z)(5.5\\hat{a_x}-1.2\\hat{a_z}) V/m$$\n"
      ],
      "text/plain": [
       "<IPython.core.display.Markdown object>"
      ]
     },
     "execution_count": 13,
     "metadata": {},
     "output_type": "execute_result"
    }
   ],
   "source": [
    "E_t_0 = A*tau_tm\n",
    "\n",
    "Markdown(\"\"\"\n",
    "$$\\\\vec{{E^t_s}}(x,z) = \\exp({x:.4}jx)\\cdot\\exp({z:.4}jz)({a_x:0.2}\\hat{{a_x}}{a_z:+0.2}\\hat{{a_z}}) V/m$$\n",
    "$$\\\\vec{{E^t_s}}(x,z,t) = \\cos({omega:.0f}t{x:+.3f}x{z:+.3f}z)({a_x:0.2}\\hat{{a_x}}{a_z:+0.2}\\hat{{a_z}}) V/m$$\n",
    "\"\"\".format(\n",
    "    omega=omega, \n",
    "    x=-B_ground*sin(theta_t), \n",
    "    z=-B_ground*cos(theta_t), \n",
    "    a_x=cos(theta_t)*E_t_0, \n",
    "    a_z=-sin(theta_t)*E_t_0\n",
    "))"
   ]
  },
  {
   "cell_type": "markdown",
   "metadata": {},
   "source": [
    "### Randomly Polarized Electric Fields (Uniform Plane Waves)"
   ]
  },
  {
   "cell_type": "markdown",
   "metadata": {},
   "source": [
    "#### Incident"
   ]
  },
  {
   "cell_type": "code",
   "execution_count": 14,
   "metadata": {},
   "outputs": [
    {
     "data": {
      "text/markdown": [
       "\n",
       "$$\\vec{E^i_s}(x,z) = \\exp(-0.531jx)\\cdot\\exp(-0.119jz)(5.46\\hat{a_x}-24.4\\hat{a_z}+25.000\\hat{a_y})V/m$$\n",
       "$$\\vec{E^i_s}(x,z,t) = \\cos(163214755t-0.531x-0.119z)(5.457\\hat{a_x}-24.397\\hat{a_z}+25.000\\hat{a_y}) V/m$$\n"
      ],
      "text/plain": [
       "<IPython.core.display.Markdown object>"
      ]
     },
     "execution_count": 14,
     "metadata": {},
     "output_type": "execute_result"
    }
   ],
   "source": [
    "E_i_0 = A\n",
    "\n",
    "Markdown(\"\"\"\n",
    "$$\\\\vec{{E^i_s}}(x,z) = \\exp({x:.3f}jx)\\cdot\\exp({z:.3}jz)({a_x:.3}\\hat{{a_x}}{a_z:+.3}\\hat{{a_z}}{a_y:+.3f}\\\\hat{{a_y}})V/m$$\n",
    "$$\\\\vec{{E^i_s}}(x,z,t) = \\cos({omega:.0f}t{x:+.3}x{z:+.3}z)({a_x:0.3f}\\hat{{a_x}}{a_z:+.3f}\\hat{{a_z}}{a_y:+.3f}\\\\hat{{a_y}}) V/m$$\n",
    "\"\"\".format(\n",
    "    omega=omega, \n",
    "    x=-B_air*sin(theta_b), \n",
    "    z=-B_air*cos(theta_b), \n",
    "    a_x=cos(theta_b)*E_i_0, \n",
    "    a_z=-sin(theta_b)*E_i_0,\n",
    "    a_y=E_i_0\n",
    "))"
   ]
  },
  {
   "cell_type": "markdown",
   "metadata": {},
   "source": [
    "#### Reflected"
   ]
  },
  {
   "cell_type": "code",
   "execution_count": 15,
   "metadata": {},
   "outputs": [
    {
     "data": {
      "text/markdown": [
       "\n",
       "$$\\vec{E^r_s}(x,z) = \\exp(-0.531jx)\\cdot\\exp(0.119jz)(0.000\\hat{a_x}+0.000\\hat{a_z}-22.618\\hat{a_y})V/m=0V/m$$\n",
       "$$\\vec{E^r_s}(x,z,t) = \\cos(163214755t-0.5313x+0.1188z)(0.0\\hat{a_x}+0.0\\hat{a_z}-22.618\\hat{a_y}) V/m$$\n"
      ],
      "text/plain": [
       "<IPython.core.display.Markdown object>"
      ]
     },
     "execution_count": 15,
     "metadata": {},
     "output_type": "execute_result"
    }
   ],
   "source": [
    "Markdown(\"\"\"\n",
    "$$\\\\vec{{E^r_s}}(x,z) = \\exp({x:.3}jx)\\cdot\\exp({z:.3}jz)({a_x:.3f}\\hat{{a_x}}+{a_z:.3f}\\hat{{a_z}}{a_y:.3f}\\\\hat{{a_y}})V/m=0V/m$$\n",
    "$$\\\\vec{{E^r_s}}(x,z,t) = \\cos({omega:.0f}t{x:+.4}x{z:+.4}z)({a_x:0.2}\\hat{{a_x}}+{a_z:0.2}\\hat{{a_z}}{a_y:.3f}\\\\hat{{a_y}}) V/m$$\n",
    "\"\"\".format(\n",
    "    omega=omega, \n",
    "    x=-B_air*sin(theta_b), \n",
    "    z=B_air*cos(theta_b), \n",
    "    a_x=cos(theta_b)*A*Gamma_tm, \n",
    "    a_z=sin(theta_b)*A*Gamma_tm,\n",
    "    a_y=A*Gamma_te\n",
    "))"
   ]
  },
  {
   "cell_type": "markdown",
   "metadata": {},
   "source": [
    "#### Transmitted"
   ]
  },
  {
   "cell_type": "code",
   "execution_count": 16,
   "metadata": {},
   "outputs": [
    {
     "data": {
      "text/markdown": [
       "\n",
       "$$\\vec{E^t_s}(x,z) = \\exp(-0.5314jx)\\cdot\\exp(-2.376jz)(5.5\\hat{a_x}-1.2\\hat{a_z}+2.382\\hat{a_y}) V/m$$\n",
       "$$\\vec{E^t_s}(x,z,t) = \\cos(163214755t-0.531x-2.376z)(5.5\\hat{a_x}-1.2\\hat{a_z}+2.382\\hat{a_y}) V/m$$\n"
      ],
      "text/plain": [
       "<IPython.core.display.Markdown object>"
      ]
     },
     "execution_count": 16,
     "metadata": {},
     "output_type": "execute_result"
    }
   ],
   "source": [
    "E_t_0 = A*tau_tm\n",
    "\n",
    "Markdown(\"\"\"\n",
    "$$\\\\vec{{E^t_s}}(x,z) = \\exp({x:.4}jx)\\cdot\\exp({z:.4}jz)({a_x:0.2}\\hat{{a_x}}{a_z:+0.2}\\hat{{a_z}}{a_y:+.3f}\\\\hat{{a_y}}) V/m$$\n",
    "$$\\\\vec{{E^t_s}}(x,z,t) = \\cos({omega:.0f}t{x:+.3f}x{z:+.3f}z)({a_x:0.2}\\hat{{a_x}}{a_z:+0.2}\\hat{{a_z}}{a_y:+.3f}\\\\hat{{a_y}}) V/m$$\n",
    "\"\"\".format(\n",
    "    omega=omega, \n",
    "    x=-B_ground*sin(theta_t), \n",
    "    z=-B_ground*cos(theta_t), \n",
    "    a_x=cos(theta_t)*E_t_0, \n",
    "    a_z=-sin(theta_t)*E_t_0,\n",
    "    a_y=A*tau_te\n",
    "))"
   ]
  },
  {
   "cell_type": "markdown",
   "metadata": {},
   "source": [
    "## Question 02"
   ]
  },
  {
   "cell_type": "code",
   "execution_count": 17,
   "metadata": {},
   "outputs": [],
   "source": [
    "R_a = 215/2\n",
    "X_a = 251/1.5\n",
    "Z_a = R_a+1j*X_a\n",
    "\n",
    "Z_0 = 50\n",
    "\n",
    "freq = 2.2*10**(9)\n",
    "\n",
    "eps_r = 4.2"
   ]
  },
  {
   "cell_type": "markdown",
   "metadata": {},
   "source": [
    "### Reflection Coefficient"
   ]
  },
  {
   "cell_type": "code",
   "execution_count": 18,
   "metadata": {},
   "outputs": [
    {
     "name": "stdout",
     "output_type": "stream",
     "text": [
      "complex reflection coefficient of the antenna is: (0.7017423611589649+0.31687901523428474j)\n"
     ]
    }
   ],
   "source": [
    "Gamma = (Z_a-Z_0)/(Z_a+Z_0)\n",
    "print(\"complex reflection coefficient of the antenna is: {0}\".format(Gamma))"
   ]
  },
  {
   "cell_type": "markdown",
   "metadata": {},
   "source": [
    "### Stub Matching"
   ]
  },
  {
   "cell_type": "code",
   "execution_count": 19,
   "metadata": {},
   "outputs": [
    {
     "name": "stdout",
     "output_type": "stream",
     "text": [
      "Through line length is :0.029434 meters\n",
      "Open circuit stub length:0.008585 meters\n"
     ]
    }
   ],
   "source": [
    "y_l = Z_0/Z_a\n",
    "\n",
    "d = 0.5-0.472+0.188\n",
    "l = 0.313-0.25\n",
    "print(\"Through line length is :{0:f} meters\".format(d*c/freq))\n",
    "print(\"Open circuit stub length:{0:f} meters\".format(l*c/freq))"
   ]
  },
  {
   "cell_type": "code",
   "execution_count": null,
   "metadata": {},
   "outputs": [],
   "source": []
  }
 ],
 "metadata": {
  "kernelspec": {
   "display_name": "Python 3",
   "language": "python",
   "name": "python3"
  },
  "language_info": {
   "codemirror_mode": {
    "name": "ipython",
    "version": 3
   },
   "file_extension": ".py",
   "mimetype": "text/x-python",
   "name": "python",
   "nbconvert_exporter": "python",
   "pygments_lexer": "ipython3",
   "version": "3.6.5"
  }
 },
 "nbformat": 4,
 "nbformat_minor": 2
}
